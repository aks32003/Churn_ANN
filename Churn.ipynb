{
 "cells": [
  {
   "cell_type": "markdown",
   "metadata": {},
   "source": [
    "Importing Dependencies"
   ]
  },
  {
   "cell_type": "code",
   "execution_count": 2,
   "metadata": {},
   "outputs": [
    {
     "name": "stdout",
     "output_type": "stream",
     "text": [
      "WARNING:tensorflow:From c:\\Users\\akash\\AppData\\Local\\Programs\\Python\\Python310\\lib\\site-packages\\keras\\src\\losses.py:2976: The name tf.losses.sparse_softmax_cross_entropy is deprecated. Please use tf.compat.v1.losses.sparse_softmax_cross_entropy instead.\n",
      "\n"
     ]
    }
   ],
   "source": [
    "import pandas as pd \n",
    "import numpy as np \n",
    "import tensorflow as tf \n",
    "from tensorflow import keras\n",
    "import matplotlib.pyplot as plt"
   ]
  },
  {
   "cell_type": "code",
   "execution_count": 3,
   "metadata": {},
   "outputs": [],
   "source": [
    "df=pd.read_csv(r\"C:\\Users\\akash\\OneDrive\\Documents\\College\\Projects\\Customer Churn\\WA_Fn-UseC_-Telco-Customer-Churn.csv\")"
   ]
  },
  {
   "cell_type": "markdown",
   "metadata": {},
   "source": [
    "Data Exploration"
   ]
  },
  {
   "cell_type": "code",
   "execution_count": 4,
   "metadata": {},
   "outputs": [
    {
     "data": {
      "text/html": [
       "<div>\n",
       "<style scoped>\n",
       "    .dataframe tbody tr th:only-of-type {\n",
       "        vertical-align: middle;\n",
       "    }\n",
       "\n",
       "    .dataframe tbody tr th {\n",
       "        vertical-align: top;\n",
       "    }\n",
       "\n",
       "    .dataframe thead th {\n",
       "        text-align: right;\n",
       "    }\n",
       "</style>\n",
       "<table border=\"1\" class=\"dataframe\">\n",
       "  <thead>\n",
       "    <tr style=\"text-align: right;\">\n",
       "      <th></th>\n",
       "      <th>customerID</th>\n",
       "      <th>gender</th>\n",
       "      <th>SeniorCitizen</th>\n",
       "      <th>Partner</th>\n",
       "      <th>Dependents</th>\n",
       "      <th>tenure</th>\n",
       "      <th>PhoneService</th>\n",
       "      <th>MultipleLines</th>\n",
       "      <th>InternetService</th>\n",
       "      <th>OnlineSecurity</th>\n",
       "      <th>...</th>\n",
       "      <th>DeviceProtection</th>\n",
       "      <th>TechSupport</th>\n",
       "      <th>StreamingTV</th>\n",
       "      <th>StreamingMovies</th>\n",
       "      <th>Contract</th>\n",
       "      <th>PaperlessBilling</th>\n",
       "      <th>PaymentMethod</th>\n",
       "      <th>MonthlyCharges</th>\n",
       "      <th>TotalCharges</th>\n",
       "      <th>Churn</th>\n",
       "    </tr>\n",
       "  </thead>\n",
       "  <tbody>\n",
       "    <tr>\n",
       "      <th>0</th>\n",
       "      <td>7590-VHVEG</td>\n",
       "      <td>Female</td>\n",
       "      <td>0</td>\n",
       "      <td>Yes</td>\n",
       "      <td>No</td>\n",
       "      <td>1</td>\n",
       "      <td>No</td>\n",
       "      <td>No phone service</td>\n",
       "      <td>DSL</td>\n",
       "      <td>No</td>\n",
       "      <td>...</td>\n",
       "      <td>No</td>\n",
       "      <td>No</td>\n",
       "      <td>No</td>\n",
       "      <td>No</td>\n",
       "      <td>Month-to-month</td>\n",
       "      <td>Yes</td>\n",
       "      <td>Electronic check</td>\n",
       "      <td>29.85</td>\n",
       "      <td>29.85</td>\n",
       "      <td>No</td>\n",
       "    </tr>\n",
       "    <tr>\n",
       "      <th>1</th>\n",
       "      <td>5575-GNVDE</td>\n",
       "      <td>Male</td>\n",
       "      <td>0</td>\n",
       "      <td>No</td>\n",
       "      <td>No</td>\n",
       "      <td>34</td>\n",
       "      <td>Yes</td>\n",
       "      <td>No</td>\n",
       "      <td>DSL</td>\n",
       "      <td>Yes</td>\n",
       "      <td>...</td>\n",
       "      <td>Yes</td>\n",
       "      <td>No</td>\n",
       "      <td>No</td>\n",
       "      <td>No</td>\n",
       "      <td>One year</td>\n",
       "      <td>No</td>\n",
       "      <td>Mailed check</td>\n",
       "      <td>56.95</td>\n",
       "      <td>1889.5</td>\n",
       "      <td>No</td>\n",
       "    </tr>\n",
       "    <tr>\n",
       "      <th>2</th>\n",
       "      <td>3668-QPYBK</td>\n",
       "      <td>Male</td>\n",
       "      <td>0</td>\n",
       "      <td>No</td>\n",
       "      <td>No</td>\n",
       "      <td>2</td>\n",
       "      <td>Yes</td>\n",
       "      <td>No</td>\n",
       "      <td>DSL</td>\n",
       "      <td>Yes</td>\n",
       "      <td>...</td>\n",
       "      <td>No</td>\n",
       "      <td>No</td>\n",
       "      <td>No</td>\n",
       "      <td>No</td>\n",
       "      <td>Month-to-month</td>\n",
       "      <td>Yes</td>\n",
       "      <td>Mailed check</td>\n",
       "      <td>53.85</td>\n",
       "      <td>108.15</td>\n",
       "      <td>Yes</td>\n",
       "    </tr>\n",
       "    <tr>\n",
       "      <th>3</th>\n",
       "      <td>7795-CFOCW</td>\n",
       "      <td>Male</td>\n",
       "      <td>0</td>\n",
       "      <td>No</td>\n",
       "      <td>No</td>\n",
       "      <td>45</td>\n",
       "      <td>No</td>\n",
       "      <td>No phone service</td>\n",
       "      <td>DSL</td>\n",
       "      <td>Yes</td>\n",
       "      <td>...</td>\n",
       "      <td>Yes</td>\n",
       "      <td>Yes</td>\n",
       "      <td>No</td>\n",
       "      <td>No</td>\n",
       "      <td>One year</td>\n",
       "      <td>No</td>\n",
       "      <td>Bank transfer (automatic)</td>\n",
       "      <td>42.30</td>\n",
       "      <td>1840.75</td>\n",
       "      <td>No</td>\n",
       "    </tr>\n",
       "    <tr>\n",
       "      <th>4</th>\n",
       "      <td>9237-HQITU</td>\n",
       "      <td>Female</td>\n",
       "      <td>0</td>\n",
       "      <td>No</td>\n",
       "      <td>No</td>\n",
       "      <td>2</td>\n",
       "      <td>Yes</td>\n",
       "      <td>No</td>\n",
       "      <td>Fiber optic</td>\n",
       "      <td>No</td>\n",
       "      <td>...</td>\n",
       "      <td>No</td>\n",
       "      <td>No</td>\n",
       "      <td>No</td>\n",
       "      <td>No</td>\n",
       "      <td>Month-to-month</td>\n",
       "      <td>Yes</td>\n",
       "      <td>Electronic check</td>\n",
       "      <td>70.70</td>\n",
       "      <td>151.65</td>\n",
       "      <td>Yes</td>\n",
       "    </tr>\n",
       "  </tbody>\n",
       "</table>\n",
       "<p>5 rows × 21 columns</p>\n",
       "</div>"
      ],
      "text/plain": [
       "   customerID  gender  SeniorCitizen Partner Dependents  tenure PhoneService  \\\n",
       "0  7590-VHVEG  Female              0     Yes         No       1           No   \n",
       "1  5575-GNVDE    Male              0      No         No      34          Yes   \n",
       "2  3668-QPYBK    Male              0      No         No       2          Yes   \n",
       "3  7795-CFOCW    Male              0      No         No      45           No   \n",
       "4  9237-HQITU  Female              0      No         No       2          Yes   \n",
       "\n",
       "      MultipleLines InternetService OnlineSecurity  ... DeviceProtection  \\\n",
       "0  No phone service             DSL             No  ...               No   \n",
       "1                No             DSL            Yes  ...              Yes   \n",
       "2                No             DSL            Yes  ...               No   \n",
       "3  No phone service             DSL            Yes  ...              Yes   \n",
       "4                No     Fiber optic             No  ...               No   \n",
       "\n",
       "  TechSupport StreamingTV StreamingMovies        Contract PaperlessBilling  \\\n",
       "0          No          No              No  Month-to-month              Yes   \n",
       "1          No          No              No        One year               No   \n",
       "2          No          No              No  Month-to-month              Yes   \n",
       "3         Yes          No              No        One year               No   \n",
       "4          No          No              No  Month-to-month              Yes   \n",
       "\n",
       "               PaymentMethod MonthlyCharges  TotalCharges Churn  \n",
       "0           Electronic check          29.85         29.85    No  \n",
       "1               Mailed check          56.95        1889.5    No  \n",
       "2               Mailed check          53.85        108.15   Yes  \n",
       "3  Bank transfer (automatic)          42.30       1840.75    No  \n",
       "4           Electronic check          70.70        151.65   Yes  \n",
       "\n",
       "[5 rows x 21 columns]"
      ]
     },
     "execution_count": 4,
     "metadata": {},
     "output_type": "execute_result"
    }
   ],
   "source": [
    "df.head()"
   ]
  },
  {
   "cell_type": "code",
   "execution_count": 5,
   "metadata": {},
   "outputs": [],
   "source": [
    "df.drop('customerID',axis='columns',inplace=True)"
   ]
  },
  {
   "cell_type": "code",
   "execution_count": 6,
   "metadata": {},
   "outputs": [
    {
     "data": {
      "text/plain": [
       "gender               object\n",
       "SeniorCitizen         int64\n",
       "Partner              object\n",
       "Dependents           object\n",
       "tenure                int64\n",
       "PhoneService         object\n",
       "MultipleLines        object\n",
       "InternetService      object\n",
       "OnlineSecurity       object\n",
       "OnlineBackup         object\n",
       "DeviceProtection     object\n",
       "TechSupport          object\n",
       "StreamingTV          object\n",
       "StreamingMovies      object\n",
       "Contract             object\n",
       "PaperlessBilling     object\n",
       "PaymentMethod        object\n",
       "MonthlyCharges      float64\n",
       "TotalCharges         object\n",
       "Churn                object\n",
       "dtype: object"
      ]
     },
     "execution_count": 6,
     "metadata": {},
     "output_type": "execute_result"
    }
   ],
   "source": [
    "df.dtypes"
   ]
  },
  {
   "cell_type": "markdown",
   "metadata": {},
   "source": [
    "Converting Total Charges to an Int"
   ]
  },
  {
   "cell_type": "code",
   "execution_count": 7,
   "metadata": {},
   "outputs": [
    {
     "data": {
      "text/plain": [
       "0         29.85\n",
       "1       1889.50\n",
       "2        108.15\n",
       "3       1840.75\n",
       "4        151.65\n",
       "         ...   \n",
       "7038    1990.50\n",
       "7039    7362.90\n",
       "7040     346.45\n",
       "7041     306.60\n",
       "7042    6844.50\n",
       "Name: TotalCharges, Length: 7043, dtype: float64"
      ]
     },
     "execution_count": 7,
     "metadata": {},
     "output_type": "execute_result"
    }
   ],
   "source": [
    "pd.to_numeric(df.TotalCharges,errors='coerce')"
   ]
  },
  {
   "cell_type": "code",
   "execution_count": 8,
   "metadata": {},
   "outputs": [],
   "source": [
    "df1=df[df.TotalCharges !=' ']"
   ]
  },
  {
   "cell_type": "code",
   "execution_count": 9,
   "metadata": {},
   "outputs": [
    {
     "data": {
      "text/plain": [
       "(7032, 20)"
      ]
     },
     "execution_count": 9,
     "metadata": {},
     "output_type": "execute_result"
    }
   ],
   "source": [
    "df1.shape"
   ]
  },
  {
   "cell_type": "code",
   "execution_count": 10,
   "metadata": {},
   "outputs": [
    {
     "data": {
      "text/plain": [
       "gender               object\n",
       "SeniorCitizen         int64\n",
       "Partner              object\n",
       "Dependents           object\n",
       "tenure                int64\n",
       "PhoneService         object\n",
       "MultipleLines        object\n",
       "InternetService      object\n",
       "OnlineSecurity       object\n",
       "OnlineBackup         object\n",
       "DeviceProtection     object\n",
       "TechSupport          object\n",
       "StreamingTV          object\n",
       "StreamingMovies      object\n",
       "Contract             object\n",
       "PaperlessBilling     object\n",
       "PaymentMethod        object\n",
       "MonthlyCharges      float64\n",
       "TotalCharges         object\n",
       "Churn                object\n",
       "dtype: object"
      ]
     },
     "execution_count": 10,
     "metadata": {},
     "output_type": "execute_result"
    }
   ],
   "source": [
    "df1.dtypes"
   ]
  },
  {
   "cell_type": "code",
   "execution_count": 11,
   "metadata": {},
   "outputs": [
    {
     "data": {
      "text/plain": [
       "0         29.85\n",
       "1       1889.50\n",
       "2        108.15\n",
       "3       1840.75\n",
       "4        151.65\n",
       "         ...   \n",
       "7038    1990.50\n",
       "7039    7362.90\n",
       "7040     346.45\n",
       "7041     306.60\n",
       "7042    6844.50\n",
       "Name: TotalCharges, Length: 7032, dtype: float64"
      ]
     },
     "execution_count": 11,
     "metadata": {},
     "output_type": "execute_result"
    }
   ],
   "source": [
    "pd.to_numeric(df1.TotalCharges)"
   ]
  },
  {
   "cell_type": "code",
   "execution_count": 12,
   "metadata": {},
   "outputs": [
    {
     "name": "stderr",
     "output_type": "stream",
     "text": [
      "C:\\Users\\akash\\AppData\\Local\\Temp\\ipykernel_2096\\2707637380.py:1: UserWarning: Boolean Series key will be reindexed to match DataFrame index.\n",
      "  df1[df.Churn=='No'].tenure\n"
     ]
    },
    {
     "data": {
      "text/plain": [
       "0        1\n",
       "1       34\n",
       "3       45\n",
       "6       22\n",
       "7       10\n",
       "        ..\n",
       "7037    72\n",
       "7038    24\n",
       "7039    72\n",
       "7040    11\n",
       "7042    66\n",
       "Name: tenure, Length: 5163, dtype: int64"
      ]
     },
     "execution_count": 12,
     "metadata": {},
     "output_type": "execute_result"
    }
   ],
   "source": [
    "df1[df.Churn=='No'].tenure"
   ]
  },
  {
   "cell_type": "code",
   "execution_count": 13,
   "metadata": {},
   "outputs": [
    {
     "name": "stderr",
     "output_type": "stream",
     "text": [
      "C:\\Users\\akash\\AppData\\Local\\Temp\\ipykernel_2096\\505295319.py:1: UserWarning: Boolean Series key will be reindexed to match DataFrame index.\n",
      "  tenure_churn_no= df1[df.Churn=='No'].tenure\n",
      "C:\\Users\\akash\\AppData\\Local\\Temp\\ipykernel_2096\\505295319.py:2: UserWarning: Boolean Series key will be reindexed to match DataFrame index.\n",
      "  tenure_churn_yes = df1[df.Churn=='Yes'].tenure\n"
     ]
    }
   ],
   "source": [
    "tenure_churn_no= df1[df.Churn=='No'].tenure\n",
    "tenure_churn_yes = df1[df.Churn=='Yes'].tenure"
   ]
  },
  {
   "cell_type": "markdown",
   "metadata": {},
   "source": [
    "Data Visualization "
   ]
  },
  {
   "cell_type": "code",
   "execution_count": 14,
   "metadata": {},
   "outputs": [
    {
     "data": {
      "text/plain": [
       "<matplotlib.legend.Legend at 0x226de764cd0>"
      ]
     },
     "execution_count": 14,
     "metadata": {},
     "output_type": "execute_result"
    },
    {
     "data": {
      "image/png": "[encoded data removed]",
      "text/plain": [
       "<Figure size 640x480 with 1 Axes>"
      ]
     },
     "metadata": {},
     "output_type": "display_data"
    }
   ],
   "source": [
    "plt.hist([tenure_churn_yes,tenure_churn_no],color=['green','red'],label=['Yes-Staying','No-Leaving'])\n",
    "plt.ylabel('No of Customers')\n",
    "plt.xlabel('Tenure')\n",
    "plt.legend()\n"
   ]
  },
  {
   "cell_type": "code",
   "execution_count": 15,
   "metadata": {},
   "outputs": [
    {
     "data": {
      "text/plain": [
       "<matplotlib.legend.Legend at 0x226e09c3280>"
      ]
     },
     "execution_count": 15,
     "metadata": {},
     "output_type": "execute_result"
    },
    {
     "data": {
      "image/png": "[encoded data removed]",
      "text/plain": [
       "<Figure size 640x480 with 1 Axes>"
      ]
     },
     "metadata": {},
     "output_type": "display_data"
    }
   ],
   "source": [
    "mc_churn_no = df1[df1.Churn=='No'].MonthlyCharges      \n",
    "mc_churn_yes = df1[df1.Churn=='Yes'].MonthlyCharges      \n",
    "\n",
    "plt.xlabel(\"Monthly Charges\")\n",
    "plt.ylabel(\"Number Of Customers\")\n",
    "plt.title(\"Customer Churn Prediction Visualiztion\")\n",
    "plt.hist([mc_churn_yes, mc_churn_no], rwidth=0.95, color=['green','red'],label=['Churn=Yes','Churn=No'])\n",
    "plt.legend()"
   ]
  },
  {
   "cell_type": "code",
   "execution_count": 16,
   "metadata": {},
   "outputs": [],
   "source": [
    "def print_unique_col_values(df):\n",
    "       for column in df:\n",
    "            if df[column].dtypes=='object':\n",
    "                print(f'{column}: {df[column].unique()}')"
   ]
  },
  {
   "cell_type": "code",
   "execution_count": 17,
   "metadata": {},
   "outputs": [
    {
     "name": "stdout",
     "output_type": "stream",
     "text": [
      "gender: ['Female' 'Male']\n",
      "Partner: ['Yes' 'No']\n",
      "Dependents: ['No' 'Yes']\n",
      "PhoneService: ['No' 'Yes']\n",
      "MultipleLines: ['No phone service' 'No' 'Yes']\n",
      "InternetService: ['DSL' 'Fiber optic' 'No']\n",
      "OnlineSecurity: ['No' 'Yes' 'No internet service']\n",
      "OnlineBackup: ['Yes' 'No' 'No internet service']\n",
      "DeviceProtection: ['No' 'Yes' 'No internet service']\n",
      "TechSupport: ['No' 'Yes' 'No internet service']\n",
      "StreamingTV: ['No' 'Yes' 'No internet service']\n",
      "StreamingMovies: ['No' 'Yes' 'No internet service']\n",
      "Contract: ['Month-to-month' 'One year' 'Two year']\n",
      "PaperlessBilling: ['Yes' 'No']\n",
      "PaymentMethod: ['Electronic check' 'Mailed check' 'Bank transfer (automatic)'\n",
      " 'Credit card (automatic)']\n",
      "TotalCharges: ['29.85' '1889.5' '108.15' ... '346.45' '306.6' '6844.5']\n",
      "Churn: ['No' 'Yes']\n"
     ]
    }
   ],
   "source": [
    "print_unique_col_values(df1)"
   ]
  },
  {
   "cell_type": "code",
   "execution_count": 18,
   "metadata": {},
   "outputs": [
    {
     "name": "stderr",
     "output_type": "stream",
     "text": [
      "C:\\Users\\akash\\AppData\\Local\\Temp\\ipykernel_2096\\2045096646.py:1: SettingWithCopyWarning: \n",
      "A value is trying to be set on a copy of a slice from a DataFrame\n",
      "\n",
      "See the caveats in the documentation: https://pandas.pydata.org/pandas-docs/stable/user_guide/indexing.html#returning-a-view-versus-a-copy\n",
      "  df1.replace('No internet service','No',inplace=True)\n",
      "C:\\Users\\akash\\AppData\\Local\\Temp\\ipykernel_2096\\2045096646.py:2: SettingWithCopyWarning: \n",
      "A value is trying to be set on a copy of a slice from a DataFrame\n",
      "\n",
      "See the caveats in the documentation: https://pandas.pydata.org/pandas-docs/stable/user_guide/indexing.html#returning-a-view-versus-a-copy\n",
      "  df1.replace('No phone service','No',inplace=True)\n"
     ]
    }
   ],
   "source": [
    "df1.replace('No internet service','No',inplace=True)\n",
    "df1.replace('No phone service','No',inplace=True)"
   ]
  },
  {
   "cell_type": "code",
   "execution_count": 19,
   "metadata": {},
   "outputs": [
    {
     "name": "stdout",
     "output_type": "stream",
     "text": [
      "gender: ['Female' 'Male']\n",
      "Partner: ['Yes' 'No']\n",
      "Dependents: ['No' 'Yes']\n",
      "PhoneService: ['No' 'Yes']\n",
      "MultipleLines: ['No' 'Yes']\n",
      "InternetService: ['DSL' 'Fiber optic' 'No']\n",
      "OnlineSecurity: ['No' 'Yes']\n",
      "OnlineBackup: ['Yes' 'No']\n",
      "DeviceProtection: ['No' 'Yes']\n",
      "TechSupport: ['No' 'Yes']\n",
      "StreamingTV: ['No' 'Yes']\n",
      "StreamingMovies: ['No' 'Yes']\n",
      "Contract: ['Month-to-month' 'One year' 'Two year']\n",
      "PaperlessBilling: ['Yes' 'No']\n",
      "PaymentMethod: ['Electronic check' 'Mailed check' 'Bank transfer (automatic)'\n",
      " 'Credit card (automatic)']\n",
      "TotalCharges: ['29.85' '1889.5' '108.15' ... '346.45' '306.6' '6844.5']\n",
      "Churn: ['No' 'Yes']\n"
     ]
    }
   ],
   "source": [
    "print_unique_col_values(df1)"
   ]
  },
  {
   "cell_type": "code",
   "execution_count": 20,
   "metadata": {},
   "outputs": [
    {
     "name": "stderr",
     "output_type": "stream",
     "text": [
      "C:\\Users\\akash\\AppData\\Local\\Temp\\ipykernel_2096\\1648037665.py:4: SettingWithCopyWarning: \n",
      "A value is trying to be set on a copy of a slice from a DataFrame\n",
      "\n",
      "See the caveats in the documentation: https://pandas.pydata.org/pandas-docs/stable/user_guide/indexing.html#returning-a-view-versus-a-copy\n",
      "  df1[col].replace({'Yes': 1,'No': 0},inplace=True)\n"
     ]
    }
   ],
   "source": [
    "yes_no_columns = ['Partner','Dependents','PhoneService','MultipleLines','OnlineSecurity','OnlineBackup',\n",
    "                  'DeviceProtection','TechSupport','StreamingTV','StreamingMovies','PaperlessBilling','Churn']\n",
    "for col in yes_no_columns:\n",
    "    df1[col].replace({'Yes': 1,'No': 0},inplace=True)"
   ]
  },
  {
   "cell_type": "code",
   "execution_count": 21,
   "metadata": {},
   "outputs": [
    {
     "name": "stdout",
     "output_type": "stream",
     "text": [
      "gender: ['Female' 'Male']\n",
      "SeniorCitizen: [0 1]\n",
      "Partner: [1 0]\n",
      "Dependents: [0 1]\n",
      "tenure: [ 1 34  2 45  8 22 10 28 62 13 16 58 49 25 69 52 71 21 12 30 47 72 17 27\n",
      "  5 46 11 70 63 43 15 60 18 66  9  3 31 50 64 56  7 42 35 48 29 65 38 68\n",
      " 32 55 37 36 41  6  4 33 67 23 57 61 14 20 53 40 59 24 44 19 54 51 26 39]\n",
      "PhoneService: [0 1]\n",
      "MultipleLines: [0 1]\n",
      "InternetService: ['DSL' 'Fiber optic' 'No']\n",
      "OnlineSecurity: [0 1]\n",
      "OnlineBackup: [1 0]\n",
      "DeviceProtection: [0 1]\n",
      "TechSupport: [0 1]\n",
      "StreamingTV: [0 1]\n",
      "StreamingMovies: [0 1]\n",
      "Contract: ['Month-to-month' 'One year' 'Two year']\n",
      "PaperlessBilling: [1 0]\n",
      "PaymentMethod: ['Electronic check' 'Mailed check' 'Bank transfer (automatic)'\n",
      " 'Credit card (automatic)']\n",
      "MonthlyCharges: [29.85 56.95 53.85 ... 63.1  44.2  78.7 ]\n",
      "TotalCharges: ['29.85' '1889.5' '108.15' ... '346.45' '306.6' '6844.5']\n",
      "Churn: [0 1]\n"
     ]
    }
   ],
   "source": [
    "for col in df1:\n",
    "    print(f'{col}: {df1[col].unique()}') "
   ]
  },
  {
   "cell_type": "code",
   "execution_count": 22,
   "metadata": {},
   "outputs": [
    {
     "name": "stderr",
     "output_type": "stream",
     "text": [
      "C:\\Users\\akash\\AppData\\Local\\Temp\\ipykernel_2096\\698335744.py:1: SettingWithCopyWarning: \n",
      "A value is trying to be set on a copy of a slice from a DataFrame\n",
      "\n",
      "See the caveats in the documentation: https://pandas.pydata.org/pandas-docs/stable/user_guide/indexing.html#returning-a-view-versus-a-copy\n",
      "  df1['gender'].replace({'Female':1,'Male':0},inplace=True)\n"
     ]
    }
   ],
   "source": [
    "df1['gender'].replace({'Female':1,'Male':0},inplace=True)"
   ]
  },
  {
   "cell_type": "markdown",
   "metadata": {},
   "source": [
    "One hot Encoding-One-Hot encoding technique is used when the features are nominal(do not have any order). In one hot encoding, for every categorical feature, a new variable is created. Categorical features are mapped with a binary variable containing either 0 or 1. Here, 0 represents the absence, and 1 represents the presence of that category."
   ]
  },
  {
   "cell_type": "code",
   "execution_count": 23,
   "metadata": {},
   "outputs": [
    {
     "data": {
      "text/plain": [
       "Index(['gender', 'SeniorCitizen', 'Partner', 'Dependents', 'tenure',\n",
       "       'PhoneService', 'MultipleLines', 'OnlineSecurity', 'OnlineBackup',\n",
       "       'DeviceProtection', 'TechSupport', 'StreamingTV', 'StreamingMovies',\n",
       "       'PaperlessBilling', 'MonthlyCharges', 'TotalCharges', 'Churn',\n",
       "       'InternetService_DSL', 'InternetService_Fiber optic',\n",
       "       'InternetService_No', 'Contract_Month-to-month', 'Contract_One year',\n",
       "       'Contract_Two year', 'PaymentMethod_Bank transfer (automatic)',\n",
       "       'PaymentMethod_Credit card (automatic)',\n",
       "       'PaymentMethod_Electronic check', 'PaymentMethod_Mailed check'],\n",
       "      dtype='object')"
      ]
     },
     "execution_count": 23,
     "metadata": {},
     "output_type": "execute_result"
    }
   ],
   "source": [
    "df2 = pd.get_dummies(data=df1, columns=['InternetService','Contract','PaymentMethod'])\n",
    "df2.columns"
   ]
  },
  {
   "cell_type": "code",
   "execution_count": 24,
   "metadata": {},
   "outputs": [
    {
     "data": {
      "text/plain": [
       "gender                                       int64\n",
       "SeniorCitizen                                int64\n",
       "Partner                                      int64\n",
       "Dependents                                   int64\n",
       "tenure                                       int64\n",
       "PhoneService                                 int64\n",
       "MultipleLines                                int64\n",
       "OnlineSecurity                               int64\n",
       "OnlineBackup                                 int64\n",
       "DeviceProtection                             int64\n",
       "TechSupport                                  int64\n",
       "StreamingTV                                  int64\n",
       "StreamingMovies                              int64\n",
       "PaperlessBilling                             int64\n",
       "MonthlyCharges                             float64\n",
       "TotalCharges                                object\n",
       "Churn                                        int64\n",
       "InternetService_DSL                           bool\n",
       "InternetService_Fiber optic                   bool\n",
       "InternetService_No                            bool\n",
       "Contract_Month-to-month                       bool\n",
       "Contract_One year                             bool\n",
       "Contract_Two year                             bool\n",
       "PaymentMethod_Bank transfer (automatic)       bool\n",
       "PaymentMethod_Credit card (automatic)         bool\n",
       "PaymentMethod_Electronic check                bool\n",
       "PaymentMethod_Mailed check                    bool\n",
       "dtype: object"
      ]
     },
     "execution_count": 24,
     "metadata": {},
     "output_type": "execute_result"
    }
   ],
   "source": [
    "df2.dtypes"
   ]
  },
  {
   "cell_type": "code",
   "execution_count": 25,
   "metadata": {},
   "outputs": [],
   "source": [
    "df2= df2.astype(float)"
   ]
  },
  {
   "cell_type": "code",
   "execution_count": 26,
   "metadata": {},
   "outputs": [],
   "source": [
    "cols_to_scale = ['tenure','MonthlyCharges','TotalCharges']\n",
    "from sklearn.preprocessing import MinMaxScaler\n",
    "scaler = MinMaxScaler()\n",
    "df2[cols_to_scale] = scaler.fit_transform(df2[cols_to_scale])"
   ]
  },
  {
   "cell_type": "markdown",
   "metadata": {},
   "source": [
    "Train/Test Split"
   ]
  },
  {
   "cell_type": "code",
   "execution_count": 27,
   "metadata": {},
   "outputs": [],
   "source": [
    "X = df2.drop('Churn',axis='columns')\n",
    "y = df2['Churn']\n",
    "\n",
    "from sklearn.model_selection import train_test_split\n",
    "X_train, X_test, y_train, y_test = train_test_split(X,y,test_size=0.2,random_state=5)"
   ]
  },
  {
   "cell_type": "code",
   "execution_count": 28,
   "metadata": {},
   "outputs": [
    {
     "data": {
      "text/plain": [
       "26"
      ]
     },
     "execution_count": 28,
     "metadata": {},
     "output_type": "execute_result"
    }
   ],
   "source": [
    "len(X_train.columns)"
   ]
  },
  {
   "cell_type": "code",
   "execution_count": 29,
   "metadata": {},
   "outputs": [
    {
     "data": {
      "text/plain": [
       "gender                                     float64\n",
       "SeniorCitizen                              float64\n",
       "Partner                                    float64\n",
       "Dependents                                 float64\n",
       "tenure                                     float64\n",
       "PhoneService                               float64\n",
       "MultipleLines                              float64\n",
       "OnlineSecurity                             float64\n",
       "OnlineBackup                               float64\n",
       "DeviceProtection                           float64\n",
       "TechSupport                                float64\n",
       "StreamingTV                                float64\n",
       "StreamingMovies                            float64\n",
       "PaperlessBilling                           float64\n",
       "MonthlyCharges                             float64\n",
       "TotalCharges                               float64\n",
       "InternetService_DSL                        float64\n",
       "InternetService_Fiber optic                float64\n",
       "InternetService_No                         float64\n",
       "Contract_Month-to-month                    float64\n",
       "Contract_One year                          float64\n",
       "Contract_Two year                          float64\n",
       "PaymentMethod_Bank transfer (automatic)    float64\n",
       "PaymentMethod_Credit card (automatic)      float64\n",
       "PaymentMethod_Electronic check             float64\n",
       "PaymentMethod_Mailed check                 float64\n",
       "dtype: object"
      ]
     },
     "execution_count": 29,
     "metadata": {},
     "output_type": "execute_result"
    }
   ],
   "source": [
    "X_train.dtypes"
   ]
  },
  {
   "cell_type": "code",
   "execution_count": 30,
   "metadata": {},
   "outputs": [
    {
     "name": "stdout",
     "output_type": "stream",
     "text": [
      "WARNING:tensorflow:From c:\\Users\\akash\\AppData\\Local\\Programs\\Python\\Python310\\lib\\site-packages\\keras\\src\\backend.py:873: The name tf.get_default_graph is deprecated. Please use tf.compat.v1.get_default_graph instead.\n",
      "\n",
      "WARNING:tensorflow:From c:\\Users\\akash\\AppData\\Local\\Programs\\Python\\Python310\\lib\\site-packages\\keras\\src\\optimizers\\__init__.py:309: The name tf.train.Optimizer is deprecated. Please use tf.compat.v1.train.Optimizer instead.\n",
      "\n",
      "Epoch 1/100\n",
      "WARNING:tensorflow:From c:\\Users\\akash\\AppData\\Local\\Programs\\Python\\Python310\\lib\\site-packages\\keras\\src\\utils\\tf_utils.py:492: The name tf.ragged.RaggedTensorValue is deprecated. Please use tf.compat.v1.ragged.RaggedTensorValue instead.\n",
      "\n",
      "WARNING:tensorflow:From c:\\Users\\akash\\AppData\\Local\\Programs\\Python\\Python310\\lib\\site-packages\\keras\\src\\engine\\base_layer_utils.py:384: The name tf.executing_eagerly_outside_functions is deprecated. Please use tf.compat.v1.executing_eagerly_outside_functions instead.\n",
      "\n",
      "176/176 [==============================] - 2s 2ms/step - loss: 0.4764 - accuracy: 0.7618\n",
      "Epoch 2/100\n",
      "176/176 [==============================] - 0s 2ms/step - loss: 0.4308 - accuracy: 0.7900\n",
      "Epoch 3/100\n",
      "176/176 [==============================] - 0s 2ms/step - loss: 0.4239 - accuracy: 0.7977\n",
      "Epoch 4/100\n",
      "176/176 [==============================] - 0s 2ms/step - loss: 0.4190 - accuracy: 0.8037\n",
      "Epoch 5/100\n",
      "176/176 [==============================] - 0s 3ms/step - loss: 0.4147 - accuracy: 0.8020\n",
      "Epoch 6/100\n",
      "176/176 [==============================] - 0s 2ms/step - loss: 0.4110 - accuracy: 0.8078\n",
      "Epoch 7/100\n",
      "176/176 [==============================] - 0s 2ms/step - loss: 0.4090 - accuracy: 0.8084\n",
      "Epoch 8/100\n",
      "176/176 [==============================] - 0s 2ms/step - loss: 0.4054 - accuracy: 0.8105\n",
      "Epoch 9/100\n",
      "176/176 [==============================] - 0s 2ms/step - loss: 0.4034 - accuracy: 0.8130\n",
      "Epoch 10/100\n",
      "176/176 [==============================] - 0s 2ms/step - loss: 0.4021 - accuracy: 0.8148\n",
      "Epoch 11/100\n",
      "176/176 [==============================] - 0s 2ms/step - loss: 0.4004 - accuracy: 0.8132\n",
      "Epoch 12/100\n",
      "176/176 [==============================] - 0s 2ms/step - loss: 0.3983 - accuracy: 0.8153\n",
      "Epoch 13/100\n",
      "176/176 [==============================] - 0s 2ms/step - loss: 0.3974 - accuracy: 0.8142\n",
      "Epoch 14/100\n",
      "176/176 [==============================] - 0s 2ms/step - loss: 0.3968 - accuracy: 0.8132\n",
      "Epoch 15/100\n",
      "176/176 [==============================] - 0s 2ms/step - loss: 0.3948 - accuracy: 0.8153\n",
      "Epoch 16/100\n",
      "176/176 [==============================] - 0s 2ms/step - loss: 0.3936 - accuracy: 0.8190\n",
      "Epoch 17/100\n",
      "176/176 [==============================] - 0s 3ms/step - loss: 0.3919 - accuracy: 0.8151\n",
      "Epoch 18/100\n",
      "176/176 [==============================] - 1s 3ms/step - loss: 0.3916 - accuracy: 0.8144\n",
      "Epoch 19/100\n",
      "176/176 [==============================] - 1s 4ms/step - loss: 0.3904 - accuracy: 0.8158\n",
      "Epoch 20/100\n",
      "176/176 [==============================] - 1s 3ms/step - loss: 0.3892 - accuracy: 0.8192\n",
      "Epoch 21/100\n",
      "176/176 [==============================] - 1s 3ms/step - loss: 0.3888 - accuracy: 0.8146\n",
      "Epoch 22/100\n",
      "176/176 [==============================] - 1s 4ms/step - loss: 0.3860 - accuracy: 0.8208\n",
      "Epoch 23/100\n",
      "176/176 [==============================] - 1s 3ms/step - loss: 0.3865 - accuracy: 0.8171\n",
      "Epoch 24/100\n",
      "176/176 [==============================] - 1s 3ms/step - loss: 0.3853 - accuracy: 0.8199\n",
      "Epoch 25/100\n",
      "176/176 [==============================] - 1s 4ms/step - loss: 0.3853 - accuracy: 0.8194\n",
      "Epoch 26/100\n",
      "176/176 [==============================] - 0s 2ms/step - loss: 0.3829 - accuracy: 0.8208\n",
      "Epoch 27/100\n",
      "176/176 [==============================] - 0s 2ms/step - loss: 0.3820 - accuracy: 0.8201\n",
      "Epoch 28/100\n",
      "176/176 [==============================] - 0s 2ms/step - loss: 0.3805 - accuracy: 0.8201\n",
      "Epoch 29/100\n",
      "176/176 [==============================] - 1s 4ms/step - loss: 0.3800 - accuracy: 0.8210\n",
      "Epoch 30/100\n",
      "176/176 [==============================] - 0s 2ms/step - loss: 0.3790 - accuracy: 0.8224\n",
      "Epoch 31/100\n",
      "176/176 [==============================] - 0s 2ms/step - loss: 0.3791 - accuracy: 0.8197\n",
      "Epoch 32/100\n",
      "176/176 [==============================] - 0s 2ms/step - loss: 0.3767 - accuracy: 0.8226\n",
      "Epoch 33/100\n",
      "176/176 [==============================] - 0s 2ms/step - loss: 0.3767 - accuracy: 0.8192\n",
      "Epoch 34/100\n",
      "176/176 [==============================] - 0s 2ms/step - loss: 0.3749 - accuracy: 0.8217\n",
      "Epoch 35/100\n",
      "176/176 [==============================] - 0s 3ms/step - loss: 0.3748 - accuracy: 0.8213\n",
      "Epoch 36/100\n",
      "176/176 [==============================] - 0s 2ms/step - loss: 0.3736 - accuracy: 0.8222\n",
      "Epoch 37/100\n",
      "176/176 [==============================] - 0s 2ms/step - loss: 0.3726 - accuracy: 0.8236\n",
      "Epoch 38/100\n",
      "176/176 [==============================] - 0s 2ms/step - loss: 0.3721 - accuracy: 0.8213\n",
      "Epoch 39/100\n",
      "176/176 [==============================] - 0s 2ms/step - loss: 0.3706 - accuracy: 0.8222\n",
      "Epoch 40/100\n",
      "176/176 [==============================] - 0s 2ms/step - loss: 0.3702 - accuracy: 0.8231\n",
      "Epoch 41/100\n",
      "176/176 [==============================] - 0s 2ms/step - loss: 0.3696 - accuracy: 0.8238\n",
      "Epoch 42/100\n",
      "176/176 [==============================] - 0s 2ms/step - loss: 0.3684 - accuracy: 0.8261\n",
      "Epoch 43/100\n",
      "176/176 [==============================] - 0s 2ms/step - loss: 0.3690 - accuracy: 0.8217\n",
      "Epoch 44/100\n",
      "176/176 [==============================] - 0s 2ms/step - loss: 0.3677 - accuracy: 0.8240\n",
      "Epoch 45/100\n",
      "176/176 [==============================] - 0s 3ms/step - loss: 0.3662 - accuracy: 0.8245\n",
      "Epoch 46/100\n",
      "176/176 [==============================] - 0s 2ms/step - loss: 0.3658 - accuracy: 0.8231\n",
      "Epoch 47/100\n",
      "176/176 [==============================] - 0s 2ms/step - loss: 0.3645 - accuracy: 0.8224\n",
      "Epoch 48/100\n",
      "176/176 [==============================] - 0s 2ms/step - loss: 0.3645 - accuracy: 0.8260\n",
      "Epoch 49/100\n",
      "176/176 [==============================] - 0s 2ms/step - loss: 0.3634 - accuracy: 0.8261\n",
      "Epoch 50/100\n",
      "176/176 [==============================] - 0s 2ms/step - loss: 0.3626 - accuracy: 0.8281\n",
      "Epoch 51/100\n",
      "176/176 [==============================] - 0s 2ms/step - loss: 0.3622 - accuracy: 0.8268\n",
      "Epoch 52/100\n",
      "176/176 [==============================] - 0s 2ms/step - loss: 0.3614 - accuracy: 0.8270\n",
      "Epoch 53/100\n",
      "176/176 [==============================] - 0s 2ms/step - loss: 0.3618 - accuracy: 0.8247\n",
      "Epoch 54/100\n",
      "176/176 [==============================] - 0s 2ms/step - loss: 0.3603 - accuracy: 0.8258\n",
      "Epoch 55/100\n",
      "176/176 [==============================] - 0s 3ms/step - loss: 0.3591 - accuracy: 0.8272\n",
      "Epoch 56/100\n",
      "176/176 [==============================] - 0s 2ms/step - loss: 0.3589 - accuracy: 0.8267\n",
      "Epoch 57/100\n",
      "176/176 [==============================] - 0s 2ms/step - loss: 0.3581 - accuracy: 0.8286\n",
      "Epoch 58/100\n",
      "176/176 [==============================] - 0s 2ms/step - loss: 0.3583 - accuracy: 0.8320\n",
      "Epoch 59/100\n",
      "176/176 [==============================] - 0s 2ms/step - loss: 0.3559 - accuracy: 0.8270\n",
      "Epoch 60/100\n",
      "176/176 [==============================] - 0s 2ms/step - loss: 0.3555 - accuracy: 0.8276\n",
      "Epoch 61/100\n",
      "176/176 [==============================] - 0s 2ms/step - loss: 0.3564 - accuracy: 0.8293\n",
      "Epoch 62/100\n",
      "176/176 [==============================] - 0s 2ms/step - loss: 0.3559 - accuracy: 0.8316\n",
      "Epoch 63/100\n",
      "176/176 [==============================] - 0s 2ms/step - loss: 0.3553 - accuracy: 0.8272\n",
      "Epoch 64/100\n",
      "176/176 [==============================] - 0s 2ms/step - loss: 0.3540 - accuracy: 0.8290\n",
      "Epoch 65/100\n",
      "176/176 [==============================] - 0s 2ms/step - loss: 0.3529 - accuracy: 0.8286\n",
      "Epoch 66/100\n",
      "176/176 [==============================] - 0s 2ms/step - loss: 0.3519 - accuracy: 0.8308\n",
      "Epoch 67/100\n",
      "176/176 [==============================] - 0s 2ms/step - loss: 0.3529 - accuracy: 0.8300\n",
      "Epoch 68/100\n",
      "176/176 [==============================] - 0s 2ms/step - loss: 0.3536 - accuracy: 0.8293\n",
      "Epoch 69/100\n",
      "176/176 [==============================] - 0s 2ms/step - loss: 0.3524 - accuracy: 0.8309\n",
      "Epoch 70/100\n",
      "176/176 [==============================] - 0s 2ms/step - loss: 0.3518 - accuracy: 0.8306\n",
      "Epoch 71/100\n",
      "176/176 [==============================] - 0s 2ms/step - loss: 0.3507 - accuracy: 0.8313\n",
      "Epoch 72/100\n",
      "176/176 [==============================] - 0s 2ms/step - loss: 0.3493 - accuracy: 0.8329\n",
      "Epoch 73/100\n",
      "176/176 [==============================] - 0s 2ms/step - loss: 0.3488 - accuracy: 0.8322\n",
      "Epoch 74/100\n",
      "176/176 [==============================] - 0s 2ms/step - loss: 0.3479 - accuracy: 0.8336\n",
      "Epoch 75/100\n",
      "176/176 [==============================] - 0s 2ms/step - loss: 0.3495 - accuracy: 0.8338\n",
      "Epoch 76/100\n",
      "176/176 [==============================] - 0s 2ms/step - loss: 0.3464 - accuracy: 0.8336\n",
      "Epoch 77/100\n",
      "176/176 [==============================] - 0s 2ms/step - loss: 0.3474 - accuracy: 0.8354\n",
      "Epoch 78/100\n",
      "176/176 [==============================] - 0s 2ms/step - loss: 0.3470 - accuracy: 0.8320\n",
      "Epoch 79/100\n",
      "176/176 [==============================] - 0s 2ms/step - loss: 0.3466 - accuracy: 0.8361\n",
      "Epoch 80/100\n",
      "176/176 [==============================] - 0s 2ms/step - loss: 0.3461 - accuracy: 0.8361\n",
      "Epoch 81/100\n",
      "176/176 [==============================] - 0s 2ms/step - loss: 0.3465 - accuracy: 0.8336\n",
      "Epoch 82/100\n",
      "176/176 [==============================] - 0s 2ms/step - loss: 0.3441 - accuracy: 0.8382\n",
      "Epoch 83/100\n",
      "176/176 [==============================] - 0s 2ms/step - loss: 0.3431 - accuracy: 0.8361\n",
      "Epoch 84/100\n",
      "176/176 [==============================] - 0s 3ms/step - loss: 0.3439 - accuracy: 0.8348\n",
      "Epoch 85/100\n",
      "176/176 [==============================] - 0s 2ms/step - loss: 0.3450 - accuracy: 0.8340\n",
      "Epoch 86/100\n",
      "176/176 [==============================] - 0s 2ms/step - loss: 0.3435 - accuracy: 0.8364\n",
      "Epoch 87/100\n",
      "176/176 [==============================] - 0s 2ms/step - loss: 0.3420 - accuracy: 0.8366\n",
      "Epoch 88/100\n",
      "176/176 [==============================] - 0s 2ms/step - loss: 0.3429 - accuracy: 0.8357\n",
      "Epoch 89/100\n",
      "176/176 [==============================] - 0s 2ms/step - loss: 0.3407 - accuracy: 0.8414\n",
      "Epoch 90/100\n",
      "176/176 [==============================] - 0s 2ms/step - loss: 0.3424 - accuracy: 0.8341\n",
      "Epoch 91/100\n",
      "176/176 [==============================] - 0s 2ms/step - loss: 0.3405 - accuracy: 0.8366\n",
      "Epoch 92/100\n",
      "176/176 [==============================] - 0s 2ms/step - loss: 0.3400 - accuracy: 0.8379\n",
      "Epoch 93/100\n",
      "176/176 [==============================] - 0s 2ms/step - loss: 0.3409 - accuracy: 0.8380\n",
      "Epoch 94/100\n",
      "176/176 [==============================] - 0s 2ms/step - loss: 0.3406 - accuracy: 0.8411\n",
      "Epoch 95/100\n",
      "176/176 [==============================] - 0s 2ms/step - loss: 0.3397 - accuracy: 0.8347\n",
      "Epoch 96/100\n",
      "176/176 [==============================] - 0s 2ms/step - loss: 0.3405 - accuracy: 0.8382\n",
      "Epoch 97/100\n",
      "176/176 [==============================] - 0s 2ms/step - loss: 0.3389 - accuracy: 0.8373\n",
      "Epoch 98/100\n",
      "176/176 [==============================] - 0s 2ms/step - loss: 0.3390 - accuracy: 0.8345\n",
      "Epoch 99/100\n",
      "176/176 [==============================] - 0s 2ms/step - loss: 0.3390 - accuracy: 0.8377\n",
      "Epoch 100/100\n",
      "176/176 [==============================] - 0s 2ms/step - loss: 0.3381 - accuracy: 0.8350\n"
     ]
    },
    {
     "data": {
      "text/plain": [
       "<keras.src.callbacks.History at 0x226e39a8100>"
      ]
     },
     "execution_count": 30,
     "metadata": {},
     "output_type": "execute_result"
    }
   ],
   "source": [
    "model = keras.Sequential([\n",
    "    keras.layers.Dense(26, input_shape=(26,), activation='relu'),\n",
    "    keras.layers.Dense(15, activation='relu'),\n",
    "    keras.layers.Dense(1, activation='sigmoid')\n",
    "])\n",
    "\n",
    "# opt = keras.optimizers.Adam(learning_rate=0.01)\n",
    "\n",
    "model.compile(optimizer='adam',\n",
    "              loss='binary_crossentropy',\n",
    "              metrics=['accuracy'])\n",
    "\n",
    "model.fit(X_train, y_train, epochs=100)"
   ]
  },
  {
   "cell_type": "code",
   "execution_count": 31,
   "metadata": {},
   "outputs": [
    {
     "name": "stdout",
     "output_type": "stream",
     "text": [
      "44/44 [==============================] - 0s 2ms/step - loss: 0.5109 - accuracy: 0.7676\n"
     ]
    },
    {
     "data": {
      "text/plain": [
       "[0.5108887553215027, 0.7675906419754028]"
      ]
     },
     "execution_count": 31,
     "metadata": {},
     "output_type": "execute_result"
    }
   ],
   "source": [
    "model.evaluate(X_test, y_test)"
   ]
  },
  {
   "cell_type": "code",
   "execution_count": 33,
   "metadata": {},
   "outputs": [
    {
     "name": "stdout",
     "output_type": "stream",
     "text": [
      "44/44 [==============================] - 0s 2ms/step\n"
     ]
    }
   ],
   "source": [
    "yp = model.predict(X_test)"
   ]
  },
  {
   "cell_type": "code",
   "execution_count": 34,
   "metadata": {},
   "outputs": [],
   "source": [
    "y_pred = []\n",
    "for element in yp:\n",
    "    if element > 0.5:\n",
    "        y_pred.append(1)\n",
    "    else:\n",
    "        y_pred.append(0)"
   ]
  },
  {
   "cell_type": "code",
   "execution_count": 35,
   "metadata": {},
   "outputs": [
    {
     "name": "stdout",
     "output_type": "stream",
     "text": [
      "              precision    recall  f1-score   support\n",
      "\n",
      "         0.0       0.80      0.89      0.85       999\n",
      "         1.0       0.64      0.46      0.53       408\n",
      "\n",
      "    accuracy                           0.77      1407\n",
      "   macro avg       0.72      0.68      0.69      1407\n",
      "weighted avg       0.75      0.77      0.76      1407\n",
      "\n"
     ]
    }
   ],
   "source": [
    "from sklearn.metrics import confusion_matrix , classification_report\n",
    "\n",
    "print(classification_report(y_test,y_pred))"
   ]
  },
  {
   "cell_type": "code",
   "execution_count": 37,
   "metadata": {},
   "outputs": [
    {
     "data": {
      "text/plain": [
       "[0, 1, 0, 1, 0, 1, 0, 0, 0, 0]"
      ]
     },
     "execution_count": 37,
     "metadata": {},
     "output_type": "execute_result"
    }
   ],
   "source": [
    "y_pred[:10]"
   ]
  },
  {
   "cell_type": "code",
   "execution_count": 38,
   "metadata": {},
   "outputs": [
    {
     "data": {
      "text/plain": [
       "Text(95.72222222222221, 0.5, 'Truth')"
      ]
     },
     "execution_count": 38,
     "metadata": {},
     "output_type": "execute_result"
    },
    {
     "data": {
      "image/png": "[encoded data removed]",
      "text/plain": [
       "<Figure size 1000x700 with 2 Axes>"
      ]
     },
     "metadata": {},
     "output_type": "display_data"
    }
   ],
   "source": [
    "import seaborn as sn\n",
    "cm = tf.math.confusion_matrix(labels=y_test,predictions=y_pred)\n",
    "\n",
    "plt.figure(figsize = (10,7))\n",
    "sn.heatmap(cm, annot=True, fmt='d')\n",
    "plt.xlabel('Predicted')\n",
    "plt.ylabel('Truth')"
   ]
  }
 ],
 "metadata": {
  "kernelspec": {
   "display_name": "Python 3",
   "language": "python",
   "name": "python3"
  },
  "language_info": {
   "codemirror_mode": {
    "name": "ipython",
    "version": 3
   },
   "file_extension": ".py",
   "mimetype": "text/x-python",
   "name": "python",
   "nbconvert_exporter": "python",
   "pygments_lexer": "ipython3",
   "version": "3.10.11"
  }
 },
 "nbformat": 4,
 "nbformat_minor": 2
}
